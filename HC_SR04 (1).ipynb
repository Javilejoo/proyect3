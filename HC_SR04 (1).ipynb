{
  "nbformat": 4,
  "nbformat_minor": 0,
  "metadata": {
    "colab": {
      "provenance": []
    },
    "kernelspec": {
      "name": "python3",
      "display_name": "Python 3"
    },
    "language_info": {
      "name": "python"
    },
    "accelerator": "GPU",
    "gpuClass": "standard"
  },
  "cells": [
    {
      "cell_type": "code",
      "execution_count": null,
      "metadata": {
        "colab": {
          "base_uri": "https://localhost:8080/"
        },
        "id": "MiKVdOmyTwTe",
        "outputId": "3e1c8889-d1d2-4ee2-ca07-95f818b9be15"
      },
      "outputs": [
        {
          "output_type": "stream",
          "name": "stdout",
          "text": [
            "nvcc: NVIDIA (R) Cuda compiler driver\n",
            "Copyright (c) 2005-2021 NVIDIA Corporation\n",
            "Built on Sun_Feb_14_21:12:58_PST_2021\n",
            "Cuda compilation tools, release 11.2, V11.2.152\n",
            "Build cuda_11.2.r11.2/compiler.29618528_0\n"
          ]
        }
      ],
      "source": [
        "!nvcc --version"
      ]
    },
    {
      "cell_type": "code",
      "source": [
        "!pip install git+https://github.com/andreinechaev/nvcc4jupyter.git"
      ],
      "metadata": {
        "colab": {
          "base_uri": "https://localhost:8080/"
        },
        "id": "IFEgbaTYT5EM",
        "outputId": "c34b234f-bd35-4a92-8e28-e49652e9ef1d"
      },
      "execution_count": null,
      "outputs": [
        {
          "output_type": "stream",
          "name": "stdout",
          "text": [
            "Looking in indexes: https://pypi.org/simple, https://us-python.pkg.dev/colab-wheels/public/simple/\n",
            "Collecting git+https://github.com/andreinechaev/nvcc4jupyter.git\n",
            "  Cloning https://github.com/andreinechaev/nvcc4jupyter.git to /tmp/pip-req-build-h348hvoy\n",
            "  Running command git clone -q https://github.com/andreinechaev/nvcc4jupyter.git /tmp/pip-req-build-h348hvoy\n",
            "Building wheels for collected packages: NVCCPlugin\n",
            "  Building wheel for NVCCPlugin (setup.py) ... \u001b[?25l\u001b[?25hdone\n",
            "  Created wheel for NVCCPlugin: filename=NVCCPlugin-0.0.2-py3-none-any.whl size=4304 sha256=8095d7556677c802540cccc787abf573b95021efd8a78cf8fbde2ba98deb5bbc\n",
            "  Stored in directory: /tmp/pip-ephem-wheel-cache-2p1bu02i/wheels/ca/33/8d/3c86eb85e97d2b6169d95c6e8f2c297fdec60db6e84cb56f5e\n",
            "Successfully built NVCCPlugin\n",
            "Installing collected packages: NVCCPlugin\n",
            "Successfully installed NVCCPlugin-0.0.2\n"
          ]
        }
      ]
    },
    {
      "cell_type": "code",
      "source": [
        "%load_ext nvcc_plugin"
      ],
      "metadata": {
        "colab": {
          "base_uri": "https://localhost:8080/"
        },
        "id": "-kU2Zb0kT7WH",
        "outputId": "f0453518-ea45-462e-d738-37f7145f2b19"
      },
      "execution_count": null,
      "outputs": [
        {
          "output_type": "stream",
          "name": "stdout",
          "text": [
            "created output directory at /content/src\n",
            "Out bin /content/result.out\n"
          ]
        }
      ]
    },
    {
      "cell_type": "code",
      "source": [
        "%%cu\n",
        "/**\n",
        " * --------------------------------------------------------\n",
        " * Universidad del Valle de Guatemala\n",
        " * CC3056 - Programación de Microprocesadores\n",
        " * --------------------------------------------------------\n",
        " * HC-SR04.ipynb\n",
        " * Proyecto 3\n",
        " * --------------------------------------------------------\n",
        " * Javier Prado -21486\n",
        " * Angel Perez - 21298\n",
        " * Bryan Espana - 21550\n",
        " * --------------------------------------------------------\n",
        " */\n",
        "\n",
        "#include <stdio.h>\n",
        "\n",
        "#include <cuda_runtime.h>\n",
        "\n",
        "#include <fstream>\n",
        "\n",
        "#include <string>\n",
        "\n",
        "#include <iostream>\n",
        "\n",
        "#include <vector>\n",
        "\n",
        "#Instruccion que usaran los hilos Subrutina llamada desde el Host y ejecutado en Device.\n",
        "__global__ void get_time(float * D, float * T, int N) {\n",
        "  int i = blockDim.x * blockIdx.x + threadIdx.x;\n",
        "  if (i < N) {      \n",
        "    T[i] = D[i] / 0.0343;\n",
        "  }\n",
        "}\n",
        "\n",
        "std::vector < float > get_txt_data(std::string path) {#funcion para obtener los datos del txt\n",
        "  std::vector < float > data;\n",
        "\n",
        "  std::ifstream file(path);#ruta del archivo\n",
        "  std::string str;\n",
        "\n",
        "  int first = 1;#eliminamos el encabezado\n",
        "  while (std::getline(file, str)) {\n",
        "    if (first == 0) {\n",
        "      data.push_back(std::stof(str));#colocamos y convertimos en float los datos de string\n",
        "    }\n",
        "    first = 0;\n",
        "  }\n",
        "  return data;\n",
        "}\n",
        "\n",
        "int main() {\n",
        "  std::vector < float > read_data = get_txt_data(\"Datos1.txt\");#funcion para sacar los datos de datos1.txt\n",
        "\n",
        "  int numElements = read_data.size(); #numeor de elementos --> datos\n",
        "  size_t size = numElements * sizeof(float);\n",
        "\n",
        "  #asignamos la entrada de host en su vector de tiempo y distance\n",
        "  float * h_D = (float * ) malloc(size);\n",
        "  float * h_T = (float * ) malloc(size);\n",
        "\n",
        "  #inicializamos el vector de datos en host\n",
        "  for (int i = 0; i < numElements; i++) {\n",
        "    h_D[i] = read_data[i];\n",
        "  }\n",
        "  #asignamos el device a sus vectores\n",
        "  float * d_D = NULL;\n",
        "  cudaMalloc((void **)&d_D, size);   \n",
        "  float * d_T = NULL\n",
        "  ;cudaMalloc((void **)&d_T, size);   \n",
        "\n",
        "  #Transferimos datos de host to device\n",
        "  cudaMemcpy(d_D, h_D, size, cudaMemcpyHostToDevice);\n",
        "  cudaMemcpy(d_T, h_T, size, cudaMemcpyHostToDevice);\n",
        "\n",
        "  #operacion par ahilos y bloques\n",
        "  int threadsPerBlock = 128; \n",
        "  int blocksPerGrid = (numElements + threadsPerBlock - 1) / threadsPerBlock;\n",
        "\n",
        "  #ejecutamos kernel\n",
        "  get_time<<<blocksPerGrid, threadsPerBlock>>>(d_D, d_T, numElements);\n",
        "  #transferumis resultados de device a host\n",
        "  cudaMemcpy(h_D, d_D, size, cudaMemcpyDeviceToHost);\n",
        "  cudaMemcpy(h_T, d_T, size, cudaMemcpyDeviceToHost);\n",
        "\n",
        "  #imprimimos resultados por cada distancia brindamos su tiempo\n",
        "  printf(\"RESULTADOS:\\n\");\n",
        "  for (int i = 0; i < numElements; i++) {\n",
        "    printf(\"(Distance,Time)[%i]= (%.3f, %.5f)\\n\", i, h_D[i], h_T[i]);\n",
        "  }\n",
        "  \n",
        "  #liberacion de memoria device disancia y time\n",
        "  cudaFree(d_D);\n",
        "  cudaFree(d_T);\n",
        "  #Libreacion de memoria host disancia y time\n",
        "  free(h_D);\n",
        "  free(h_T);\n",
        "\n",
        "  return 0;\n",
        "}"
      ],
      "metadata": {
        "id": "LlJY0ENMqW-J",
        "colab": {
          "base_uri": "https://localhost:8080/"
        },
        "outputId": "b2d5bdd1-c15e-4f45-bddb-d790e3f6cd1e"
      },
      "execution_count": null,
      "outputs": [
        {
          "output_type": "stream",
          "name": "stdout",
          "text": [
            "RESULTADOS:\n",
            "(Distance,Time)[0]= (4.010, 116.90963)\n",
            "(Distance,Time)[1]= (3.280, 95.62682)\n",
            "(Distance,Time)[2]= (3.050, 88.92128)\n",
            "(Distance,Time)[3]= (3.040, 88.62974)\n",
            "(Distance,Time)[4]= (2.740, 79.88338)\n",
            "(Distance,Time)[5]= (2.920, 85.13120)\n",
            "(Distance,Time)[6]= (2.740, 79.88338)\n",
            "(Distance,Time)[7]= (2.980, 86.88047)\n",
            "(Distance,Time)[8]= (2.440, 71.13703)\n",
            "(Distance,Time)[9]= (2.760, 80.46647)\n",
            "(Distance,Time)[10]= (3.170, 92.41983)\n",
            "(Distance,Time)[11]= (4.180, 121.86588)\n",
            "(Distance,Time)[12]= (4.850, 141.39941)\n",
            "(Distance,Time)[13]= (5.810, 169.38776)\n",
            "(Distance,Time)[14]= (6.590, 192.12828)\n",
            "(Distance,Time)[15]= (7.200, 209.91254)\n",
            "(Distance,Time)[16]= (8.010, 233.52771)\n",
            "(Distance,Time)[17]= (9.110, 265.59766)\n",
            "(Distance,Time)[18]= (9.760, 284.54813)\n",
            "(Distance,Time)[19]= (11.040, 321.86588)\n",
            "\n"
          ]
        }
      ]
    }
  ]
}