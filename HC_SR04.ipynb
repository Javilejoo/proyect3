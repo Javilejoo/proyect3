{
  "nbformat": 4,
  "nbformat_minor": 0,
  "metadata": {
    "colab": {
      "provenance": []
    },
    "kernelspec": {
      "name": "python3",
      "display_name": "Python 3"
    },
    "language_info": {
      "name": "python"
    },
    "accelerator": "GPU",
    "gpuClass": "standard"
  },
  "cells": [
    {
      "cell_type": "code",
      "execution_count": null,
      "metadata": {
        "colab": {
          "base_uri": "https://localhost:8080/"
        },
        "id": "MiKVdOmyTwTe",
        "outputId": "3e1c8889-d1d2-4ee2-ca07-95f818b9be15"
      },
      "outputs": [
        {
          "output_type": "stream",
          "name": "stdout",
          "text": [
            "nvcc: NVIDIA (R) Cuda compiler driver\n",
            "Copyright (c) 2005-2021 NVIDIA Corporation\n",
            "Built on Sun_Feb_14_21:12:58_PST_2021\n",
            "Cuda compilation tools, release 11.2, V11.2.152\n",
            "Build cuda_11.2.r11.2/compiler.29618528_0\n"
          ]
        }
      ],
      "source": [
        "!nvcc --version"
      ]
    },
    {
      "cell_type": "code",
      "source": [
        "!pip install git+https://github.com/andreinechaev/nvcc4jupyter.git"
      ],
      "metadata": {
        "colab": {
          "base_uri": "https://localhost:8080/"
        },
        "id": "IFEgbaTYT5EM",
        "outputId": "c34b234f-bd35-4a92-8e28-e49652e9ef1d"
      },
      "execution_count": null,
      "outputs": [
        {
          "output_type": "stream",
          "name": "stdout",
          "text": [
            "Looking in indexes: https://pypi.org/simple, https://us-python.pkg.dev/colab-wheels/public/simple/\n",
            "Collecting git+https://github.com/andreinechaev/nvcc4jupyter.git\n",
            "  Cloning https://github.com/andreinechaev/nvcc4jupyter.git to /tmp/pip-req-build-h348hvoy\n",
            "  Running command git clone -q https://github.com/andreinechaev/nvcc4jupyter.git /tmp/pip-req-build-h348hvoy\n",
            "Building wheels for collected packages: NVCCPlugin\n",
            "  Building wheel for NVCCPlugin (setup.py) ... \u001b[?25l\u001b[?25hdone\n",
            "  Created wheel for NVCCPlugin: filename=NVCCPlugin-0.0.2-py3-none-any.whl size=4304 sha256=8095d7556677c802540cccc787abf573b95021efd8a78cf8fbde2ba98deb5bbc\n",
            "  Stored in directory: /tmp/pip-ephem-wheel-cache-2p1bu02i/wheels/ca/33/8d/3c86eb85e97d2b6169d95c6e8f2c297fdec60db6e84cb56f5e\n",
            "Successfully built NVCCPlugin\n",
            "Installing collected packages: NVCCPlugin\n",
            "Successfully installed NVCCPlugin-0.0.2\n"
          ]
        }
      ]
    },
    {
      "cell_type": "code",
      "source": [
        "%load_ext nvcc_plugin"
      ],
      "metadata": {
        "colab": {
          "base_uri": "https://localhost:8080/"
        },
        "id": "-kU2Zb0kT7WH",
        "outputId": "f0453518-ea45-462e-d738-37f7145f2b19"
      },
      "execution_count": null,
      "outputs": [
        {
          "output_type": "stream",
          "name": "stdout",
          "text": [
            "created output directory at /content/src\n",
            "Out bin /content/result.out\n"
          ]
        }
      ]
    },
    {
      "cell_type": "code",
      "source": [
        "%%cu\n",
        "/**\n",
        " * --------------------------------------------------------\n",
        " * Universidad del Valle de Guatemala\n",
        " * CC3056 - Programación de Microprocesadores\n",
        " * --------------------------------------------------------\n",
        " * HC-SR04.ipynb\n",
        " * Proyecto 3\n",
        " * --------------------------------------------------------\n",
        " * Javier Prado -21486\n",
        " * Angel Perez - 21298\n",
        " * Bryan Espana - 21550\n",
        " * --------------------------------------------------------\n",
        " */\n",
        "#include <iostream>\n",
        "#include <sstream>\n",
        "#include <string>\n",
        "#include <fstream>\n",
        "#include <bits/stdc++.h>\n",
        "//Tamaño de cada vector y block\n",
        "#define N 500\n",
        "#define BLOCKSIZE 128 \n",
        "\n",
        "using namespace std;\n",
        "\n",
        "//Declarar y asignar memoria de host y device\n",
        "__global__ void mul(float *distance, float *res){\n",
        "\t//COLOCAR CODIGO PARA CACULAR ID GLOBAL DE TRHEAD PARA ASIGNAR EJECUCION DE TRABAJO\n",
        "\tint myID = threadIdx.x + blockDim.x * blockIdx.x;\n",
        "  if(myID < N)\n",
        "  \t\tres[myID] = distance[myID]/0.0343; //obtener el tiempo de cada distancia en microseg\n",
        "}// mul\n",
        "\n",
        "\n",
        "int main(int argc, char** argv) {\n",
        "\n",
        "  //float *h_distance, *h_res;       // declaración se realiza junto a memory allocation\n",
        "  float *d_distance, *d_res;\n",
        "    \n",
        "  //Host memory allocation\n",
        "  /**\n",
        "   * Para acomodar un vector de tamaño variable, usamos memoria dinámica (malloc) \n",
        "   * Debemos especificar el tipo apuntando al inicio del vector (int *) y el tamaño\n",
        "   * de cada elemento N del vector (N*size)\n",
        "   */\n",
        "  int numElements = 1;  \n",
        "   size_t size = numElements * sizeof(float);                                                   //size de arreglo en Bytes\n",
        "\n",
        "  //Declaración & Host memory allocation \n",
        "  int* h_distance = (int *)malloc(N*size);\n",
        "  int* h_res = (int *)malloc(N*size);\n",
        "  \n",
        "  //Device memory allocation\n",
        "  cudaMalloc((void **) &d_distance, N*size);\n",
        "  cudaMalloc((void **) &d_res, N*size);\n",
        "\n",
        "\n",
        "\n",
        "\n",
        "\n",
        "\n",
        "    string linea;                                                                                //guarda 1 registro/fila del csv a la vez\n",
        "    string distancia;    //columnas del txt\n",
        "                                                                      //cantidad de registros/filas en el csv\n",
        "    float temp;                                                                                  //variable auxiliar para conversión de str a float\n",
        "    float *h_distancia = (float *)malloc(size);                                                   //memory allocation del arreglo en el host\n",
        "    int i;                                                                                       //contador auxiliar\n",
        "    \n",
        "    ifstream archivo (\"Datos1.txt\");          //abrir archivo\n",
        "    if (archivo.fail()) {                              //error cuando el archivo no puede abrir\n",
        "        cerr << \"Unable to open file\" << endl;         \n",
        "        return 1;\n",
        "    }\n",
        "    \n",
        "    getline(archivo,linea);                            //omitir encabezado del txt (nombres de columnas)\n",
        "    i = 0;\n",
        "    while (getline(archivo,linea)) {                   //mientras existan lineas de registro dentro del txt\n",
        "      stringstream stream(linea);\n",
        "                                                       // Extraer todos los elementos del registro/fila en variables separadas\n",
        "      getline(stream, distancia);\n",
        "      try{\n",
        "        h_distance[i] = stof(distancia);\n",
        "      }catch(...){\n",
        "        h_distance[i] = 0;\n",
        "      }\n",
        " ////Inicialización  de los valores de vectores\n",
        "      h_distance[i] = temp;\n",
        "      cout << \"Distancia: \" << temp << endl;            //imprimir valor\n",
        "      //temp = stof(distancia);                           //convertir de string a float dato Distancia\n",
        "      \n",
        "\n",
        "     \n",
        "      }\n",
        "      archivo.close();                                   //cerrar archivo\n",
        "\n",
        "  //TRASLADO DE DATOS A OPERAR DESDE MEMORIA DE HOST A MEMORIA DE DEVICE\n",
        "  cudaMemcpy(d_distance, h_distance, N*size, cudaMemcpyHostToDevice);\n",
        "  \n",
        "  \n",
        "  //CALCULO CORRECTO DEL NUMERO DE HILOS POR BLOQUE\n",
        "  int threadsPerBlock = BLOCKSIZE;\n",
        "  int blocksPerGrid = (N + threadsPerBlock - 1) / threadsPerBlock;\n",
        "  \n",
        "  //LLAMADA DEL KERNEL DESDE EL HOST/CPU\n",
        "  mul<<<blocksPerGrid, threadsPerBlock>>>(d_distance, d_res);\n",
        "  /**\n",
        "   * La suma de hilos de cada bloque debe ser suficiente\n",
        "   * para cubrir el total del rango de datos\n",
        "   */\n",
        "\t\n",
        "\n",
        "  // TRASLADO DE RESULTADOS DEL DEVICE A MEMORIA DEL HOST\n",
        "  cudaMemcpy(h_res, d_res, N*size, cudaMemcpyDeviceToHost);\n",
        "\n",
        "  //IMPRESIÓN DE RESULTADOS\n",
        "  printf(\"Vector Distancia:\\n\");\n",
        "  for (int i=0; i<N; i++)\n",
        "  {\n",
        "\t  printf(\"%d \", h_distance[i]);\n",
        "  }\n",
        "  printf(\"\\n\");\n",
        "  \n",
        "  printf(\"Vector Tiempo:\\n\");\n",
        "  for (int i=0; i<N; i++)\n",
        "  {\n",
        "\t  printf(\"%d \", h_res[i]);\n",
        "  }\n",
        "  printf(\"\\n\");\n",
        "\n",
        "   /**\n",
        "   * Liberar memoria dinámica en el host y device\n",
        "   */\n",
        "  delete [] h_distance;\n",
        "  delete [] h_res;\n",
        "  \n",
        "  cudaFree(d_distance);\n",
        "  cudaFree(d_res);\n",
        "\n",
        "\n",
        "    return 0; \n",
        "\n",
        " }"
      ],
      "metadata": {
        "colab": {
          "base_uri": "https://localhost:8080/"
        },
        "id": "rqmqaLxzgDYg",
        "outputId": "1dd32859-81f6-44d0-ace5-533ecc405666"
      },
      "execution_count": null,
      "outputs": [
        {
          "output_type": "stream",
          "name": "stdout",
          "text": [
            "Distancia: 4.56753e-41\n",
            "Distancia: 4.56753e-41\n",
            "Distancia: 4.56753e-41\n",
            "Distancia: 4.56753e-41\n",
            "Distancia: 4.56753e-41\n",
            "Distancia: 4.56753e-41\n",
            "Distancia: 4.56753e-41\n",
            "Distancia: 4.56753e-41\n",
            "Distancia: 4.56753e-41\n",
            "Distancia: 4.56753e-41\n",
            "Distancia: 4.56753e-41\n",
            "Distancia: 4.56753e-41\n",
            "Distancia: 4.56753e-41\n",
            "Distancia: 4.56753e-41\n",
            "Distancia: 4.56753e-41\n",
            "Distancia: 4.56753e-41\n",
            "Distancia: 4.56753e-41\n",
            "Distancia: 4.56753e-41\n",
            "Distancia: 4.56753e-41\n",
            "Distancia: 4.56753e-41\n",
            "Vector Distancia:\n",
            "0 0 0 0 0 0 0 0 0 0 0 0 0 0 0 0 0 0 0 0 0 0 0 0 0 0 0 0 0 0 0 0 0 0 0 0 0 0 0 0 0 0 0 0 0 0 0 0 0 0 0 0 0 0 0 0 0 0 0 0 0 0 0 0 0 0 0 0 0 0 0 0 0 0 0 0 0 0 0 0 0 0 0 0 0 0 0 0 0 0 0 0 0 0 0 0 0 0 0 0 0 0 0 0 0 0 0 0 0 0 0 0 0 0 0 0 0 0 0 0 0 0 0 0 0 0 0 0 0 0 0 0 0 0 0 0 0 0 0 0 0 0 0 0 0 0 0 0 0 0 0 0 0 0 0 0 0 0 0 0 0 0 0 0 0 0 0 0 0 0 0 0 0 0 0 0 0 0 0 0 0 0 0 0 0 0 0 0 0 0 0 0 0 0 0 0 0 0 0 0 0 0 0 0 0 0 0 0 0 0 0 0 0 0 0 0 0 0 0 0 0 0 0 0 0 0 0 0 0 0 0 0 0 0 0 0 0 0 0 0 0 0 0 0 0 0 0 0 0 0 0 0 0 0 0 0 0 0 0 0 0 0 0 0 0 0 0 0 0 0 0 0 0 0 0 0 0 0 0 0 0 0 0 0 0 0 0 0 0 0 0 0 0 0 0 0 0 0 0 0 0 0 0 0 0 0 0 0 0 0 0 0 0 0 0 0 0 0 0 0 0 0 0 0 0 0 0 0 0 0 0 0 0 0 0 0 0 0 0 0 0 0 0 0 0 0 0 0 0 0 0 0 0 0 0 0 0 0 0 0 0 0 0 0 0 0 0 0 0 0 0 0 0 0 0 0 0 0 0 0 0 0 0 0 0 0 0 0 0 0 0 0 0 0 0 0 0 0 0 0 0 0 0 0 0 0 0 0 0 0 0 0 0 0 0 0 0 0 0 0 0 0 0 0 0 0 0 0 0 0 0 0 0 0 0 0 0 0 0 0 0 0 0 0 0 0 0 0 0 0 0 0 0 0 0 0 0 0 0 0 0 0 0 0 0 0 0 0 0 0 0 0 0 0 0 0 0 0 0 0 0 0 0 0 0 0 0 0 0 0 0 0 0 0 0 0 0 0 0 0 \n",
            "Vector Tiempo:\n",
            "-620212224 21966 0 0 0 0 0 0 0 0 0 0 0 0 0 0 0 0 0 0 0 0 0 0 0 0 0 0 0 0 0 0 0 0 0 0 0 0 0 0 0 0 0 0 0 0 0 0 0 0 0 0 0 0 0 0 0 0 0 0 0 0 0 0 0 0 0 0 0 0 0 0 0 0 0 0 0 0 0 0 0 0 0 0 0 0 0 0 0 0 0 0 0 0 0 0 0 0 0 0 0 0 0 0 0 0 0 0 0 0 0 0 0 0 0 0 0 0 0 0 0 0 0 0 0 0 0 0 0 0 0 0 0 0 0 0 0 0 0 0 0 0 0 0 0 0 0 0 0 0 0 0 0 0 0 0 0 0 0 0 0 0 0 0 0 0 0 0 0 0 0 0 0 0 0 0 0 0 0 0 0 0 0 0 0 0 0 0 0 0 0 0 0 0 0 0 0 0 0 0 0 0 0 0 0 0 0 0 0 0 0 0 0 0 0 0 0 0 0 0 0 0 0 0 0 0 0 0 0 0 0 0 0 0 0 0 0 0 0 0 0 0 0 0 0 0 0 0 0 0 0 0 0 0 0 0 0 0 0 0 0 0 0 0 0 0 0 0 0 0 0 0 0 0 0 0 0 0 0 0 0 0 0 0 0 0 0 0 0 0 0 0 0 0 0 0 0 0 0 0 0 0 0 0 0 0 0 0 0 0 0 0 0 0 0 0 0 0 0 0 0 0 0 0 0 0 0 0 0 0 0 0 0 0 0 0 0 0 0 0 0 0 0 0 0 0 0 0 0 0 0 0 0 0 0 0 0 0 0 0 0 0 0 0 0 0 0 0 0 0 0 0 0 0 0 0 0 0 0 0 0 0 0 0 0 0 0 0 0 0 0 0 0 0 0 0 0 0 0 0 0 0 0 0 0 0 0 0 0 0 0 0 0 0 0 0 0 0 0 0 0 0 0 0 0 0 0 0 0 0 0 0 0 0 0 0 0 0 0 0 0 0 0 0 0 0 0 0 0 0 0 0 0 0 0 0 0 0 0 0 0 0 0 0 0 0 0 0 0 0 0 0 0 0 0 0 0 0 0 0 0 0 0 0 0 0 0 0 0 0 0 0 0 0 0 0 0 0 0 0 \n",
            "\n"
          ]
        }
      ]
    },
    {
      "cell_type": "code",
      "source": [
        "%%cu\n",
        "#include <stdio.h>\n",
        "\n",
        "#include <cuda_runtime.h>\n",
        "\n",
        "#include <fstream>\n",
        "\n",
        "#include <string>\n",
        "\n",
        "#include <iostream>\n",
        "\n",
        "#include <vector>\n",
        "\n",
        "__global__ void get_time(float * D, float * T, int N) {\n",
        "  int i = blockDim.x * blockIdx.x + threadIdx.x;\n",
        "  if (i < N) {      \n",
        "    T[i] = D[i] / 0.0343;\n",
        "  }\n",
        "}\n",
        "\n",
        "std::vector < float > get_txt_data(std::string path) {\n",
        "  std::vector < float > data;\n",
        "\n",
        "  std::ifstream file(path);\n",
        "  std::string str;\n",
        "\n",
        "  int first = 1;\n",
        "  while (std::getline(file, str)) {\n",
        "    if (first == 0) {\n",
        "      data.push_back(std::stof(str));\n",
        "    }\n",
        "    first = 0;\n",
        "  }\n",
        "  return data;\n",
        "}\n",
        "\n",
        "int main() {\n",
        "  std::vector < float > read_data = get_txt_data(\"Datos1.txt\");\n",
        "\n",
        "  int numElements = read_data.size();\n",
        "  size_t size = numElements * sizeof(float);\n",
        "\n",
        "  float * h_D = (float * ) malloc(size);\n",
        "  float * h_T = (float * ) malloc(size);\n",
        "\n",
        "  for (int i = 0; i < numElements; i++) {\n",
        "    h_D[i] = read_data[i];\n",
        "  }\n",
        "\n",
        "  float * d_D = NULL;\n",
        "  cudaMalloc((void **)&d_D, size);   \n",
        "  float * d_T = NULL\n",
        "  ;cudaMalloc((void **)&d_T, size);   \n",
        "\n",
        "  cudaMemcpy(d_D, h_D, size, cudaMemcpyHostToDevice);\n",
        "  cudaMemcpy(d_T, h_T, size, cudaMemcpyHostToDevice);\n",
        "\n",
        "  int threadsPerBlock = 128; \n",
        "  int blocksPerGrid = (numElements + threadsPerBlock - 1) / threadsPerBlock;\n",
        "\n",
        "  get_time<<<blocksPerGrid, threadsPerBlock>>>(d_D, d_T, numElements);\n",
        "  \n",
        "  cudaMemcpy(h_D, d_D, size, cudaMemcpyDeviceToHost);\n",
        "  cudaMemcpy(h_T, d_T, size, cudaMemcpyDeviceToHost);\n",
        "\n",
        "\n",
        "  printf(\"RESULTADOS:\\n\");\n",
        "  for (int i = 0; i < numElements; i++) {\n",
        "    printf(\"(Distance,Time)[%i]= (%.3f, %.5f)\\n\", i, h_D[i], h_T[i]);\n",
        "  }\n",
        "  \n",
        "  cudaFree(d_D);\n",
        "  cudaFree(d_T);\n",
        "\n",
        "  free(h_D);\n",
        "  free(h_T);\n",
        "\n",
        "  return 0;\n",
        "}"
      ],
      "metadata": {
        "id": "LlJY0ENMqW-J",
        "colab": {
          "base_uri": "https://localhost:8080/"
        },
        "outputId": "b2d5bdd1-c15e-4f45-bddb-d790e3f6cd1e"
      },
      "execution_count": null,
      "outputs": [
        {
          "output_type": "stream",
          "name": "stdout",
          "text": [
            "RESULTADOS:\n",
            "(Distance,Time)[0]= (4.010, 116.90963)\n",
            "(Distance,Time)[1]= (3.280, 95.62682)\n",
            "(Distance,Time)[2]= (3.050, 88.92128)\n",
            "(Distance,Time)[3]= (3.040, 88.62974)\n",
            "(Distance,Time)[4]= (2.740, 79.88338)\n",
            "(Distance,Time)[5]= (2.920, 85.13120)\n",
            "(Distance,Time)[6]= (2.740, 79.88338)\n",
            "(Distance,Time)[7]= (2.980, 86.88047)\n",
            "(Distance,Time)[8]= (2.440, 71.13703)\n",
            "(Distance,Time)[9]= (2.760, 80.46647)\n",
            "(Distance,Time)[10]= (3.170, 92.41983)\n",
            "(Distance,Time)[11]= (4.180, 121.86588)\n",
            "(Distance,Time)[12]= (4.850, 141.39941)\n",
            "(Distance,Time)[13]= (5.810, 169.38776)\n",
            "(Distance,Time)[14]= (6.590, 192.12828)\n",
            "(Distance,Time)[15]= (7.200, 209.91254)\n",
            "(Distance,Time)[16]= (8.010, 233.52771)\n",
            "(Distance,Time)[17]= (9.110, 265.59766)\n",
            "(Distance,Time)[18]= (9.760, 284.54813)\n",
            "(Distance,Time)[19]= (11.040, 321.86588)\n",
            "\n"
          ]
        }
      ]
    }
  ]
}